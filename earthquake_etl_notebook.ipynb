{
 "cells": [
  {
   "cell_type": "code",
   "execution_count": 30,
   "id": "848a1c57-5de5-4bfc-b1fb-122e2b1ee268",
   "metadata": {},
   "outputs": [
    {
     "name": "stdout",
     "output_type": "stream",
     "text": [
      "✅ Loaded JSON from S3\n",
      "Total records found: 13\n",
      "First record sample:\n",
      "{'type': 'Feature', 'properties': {'mag': 1, 'place': '20 km N of Stanton, Texas', 'time': 1753498697122, 'updated': 1753498836508, 'tz': None, 'url': 'https://earthquake.usgs.gov/earthquakes/eventpage/tx2025oojmyr', 'detail': 'https://earthquake.usgs.gov/earthquakes/feed/v1.0/detail/tx2025oojmyr.geojson', 'felt': None, 'cdi': None, 'mmi': None, 'alert': None, 'status': 'automatic', 'tsunami': 0, 'sig': 15, 'net': 'tx', 'code': '2025oojmyr', 'ids': ',tx2025oojmyr,', 'sources': ',tx,', 'types': ',origin,phase-data,', 'nst': 24, 'dmin': 0, 'rms': 0.4, 'gap': 62, 'magType': 'ml', 'type': 'earthquake', 'title': 'M 1.0 - 20 km N of Stanton, Texas'}, 'geometry': {'type': 'Point', 'coordinates': [-101.789, 32.312, 4.9025]}, 'id': 'tx2025oojmyr'}\n"
     ]
    }
   ],
   "source": [
    "# Step 1: Load the earthquake JSON file from S3\n",
    "\n",
    "import boto3\n",
    "import json\n",
    "\n",
    "# Initialize S3 client (ensure credentials are set with `aws configure`)\n",
    "s3 = boto3.client('s3')\n",
    "\n",
    "# Define the bucket and object key (path to your file)\n",
    "bucket = 'azyryano-earthquake-pipeline'\n",
    "key = 'raw/earthquake-data-2025-07-26T03-02-33Z.json'\n",
    "\n",
    "try:\n",
    "    # Retrieve the object from S3\n",
    "    obj = s3.get_object(Bucket=bucket, Key=key)\n",
    "    \n",
    "    # Read and parse the JSON content\n",
    "    data = json.loads(obj['Body'].read())\n",
    "\n",
    "    # Inspect the data structure\n",
    "    features = data.get('features', [])\n",
    "    print(\"✅ Loaded JSON from S3\")\n",
    "    print(f\"Total records found: {len(features)}\")\n",
    "    print(\"First record sample:\")\n",
    "    print(features[0])  # Preview to verify the structure\n",
    "\n",
    "except Exception as e:\n",
    "    print(\"❌ Failed to load JSON from S3:\", str(e))\n"
   ]
  },
  {
   "cell_type": "code",
   "execution_count": 31,
   "id": "2164c36e-09f8-4f76-b865-87b7c0d55b0b",
   "metadata": {},
   "outputs": [
    {
     "name": "stdout",
     "output_type": "stream",
     "text": [
      "✅ DataFrame created\n",
      "             id                                    place  magnitude  \\\n",
      "0  tx2025oojmyr                20 km N of Stanton, Texas       1.00   \n",
      "1  ak0259ids12k         19 km E of Susitna North, Alaska       1.40   \n",
      "2  tx2025oojjtw                   9 km W of Rotan, Texas       2.30   \n",
      "3  ak0259idq82w  35 km S of Denali National Park, Alaska       1.90   \n",
      "4    nc75215122                 6 km E of Santa Rosa, CA       1.86   \n",
      "\n",
      "            time  \n",
      "0  1753498697122  \n",
      "1  1753498669564  \n",
      "2  1753498476822  \n",
      "3  1753498147282  \n",
      "4  1753497521800  \n"
     ]
    }
   ],
   "source": [
    "# Step 2: Parse the JSON into a structured pandas DataFrame\n",
    "\n",
    "import pandas as pd\n",
    "\n",
    "try:\n",
    "    # Create a list of dictionaries for each earthquake record\n",
    "    rows = []\n",
    "    for f in features:  # Limit to 500 for speed/testing\n",
    "        props = f.get('properties', {})\n",
    "        rows.append({\n",
    "            'id': f.get('id'),\n",
    "            'place': props.get('place'),\n",
    "            'magnitude': props.get('mag'),\n",
    "            'time': int(props.get('time')) if props.get('time') else None\n",
    "        })\n",
    "\n",
    "    # Create DataFrame\n",
    "    df = pd.DataFrame(rows)\n",
    "\n",
    "    # Preview the DataFrame\n",
    "    print(\"✅ DataFrame created\")\n",
    "    print(df.head())\n",
    "\n",
    "except Exception as e:\n",
    "    print(\"❌ Failed to create DataFrame:\", str(e))\n"
   ]
  },
  {
   "cell_type": "code",
   "execution_count": 32,
   "id": "52d5f2ba-d4c5-479c-8e46-0b232e3a70ad",
   "metadata": {},
   "outputs": [
    {
     "name": "stdout",
     "output_type": "stream",
     "text": [
      "✅ CSV in memory preview:\n",
      "tx2025oojmyr,\"20 km N of Stanton, Texas\",1.0,1753498697122\n",
      "\n",
      "ak0259ids12k,\"19 km E of Susitna North, Alaska\",1.4,1753498669564\n",
      "\n",
      "tx2025oojjtw,\"9 km W of Rotan, Texas\",2.3,1753498476822\n",
      "\n",
      "ak0259idq82w,\"35 km S of Denali National Park, Alaska\",1.9,1753498147282\n",
      "\n",
      "nc75215122,\"6 km E of Santa Rosa, CA\",1.86,1753497521800\n",
      "\n"
     ]
    }
   ],
   "source": [
    "# Step 3: Write DataFrame to an in-memory CSV buffer\n",
    "\n",
    "import io\n",
    "\n",
    "try:\n",
    "    csv_buffer = io.StringIO()\n",
    "    \n",
    "    # Write to CSV with no header and no index\n",
    "    df.to_csv(csv_buffer, index=False, header=False)\n",
    "    \n",
    "    # Reset buffer position to beginning so it can be read\n",
    "    csv_buffer.seek(0)\n",
    "\n",
    "    # Preview first few lines to ensure formatting is correct\n",
    "    print(\"✅ CSV in memory preview:\")\n",
    "    for _ in range(5):\n",
    "        print(csv_buffer.readline())\n",
    "    csv_buffer.seek(0)  # Reset again for the next reader\n",
    "\n",
    "except Exception as e:\n",
    "    print(\"❌ Failed to write CSV to buffer:\", str(e))\n"
   ]
  },
  {
   "cell_type": "code",
   "execution_count": 33,
   "id": "88594974-50e7-4bd4-b288-76f989184d19",
   "metadata": {},
   "outputs": [
    {
     "name": "stdout",
     "output_type": "stream",
     "text": [
      "✅ Connected to PostgreSQL\n"
     ]
    }
   ],
   "source": [
    "# Step 4: Connect to RDS PostgreSQL instance using psycopg2\n",
    "\n",
    "import psycopg2\n",
    "\n",
    "try:\n",
    "    conn = psycopg2.connect(\n",
    "        host=\"database-azyryano.cfkcqqqsm3g5.us-east-2.rds.amazonaws.com\",\n",
    "        database=\"databaseazyryano\",\n",
    "        user=\"postgres\",\n",
    "        password=\"Your password\",  # Replace with your real password\n",
    "        port=5432\n",
    "    )\n",
    "    cur = conn.cursor()\n",
    "    print(\"✅ Connected to PostgreSQL\")\n",
    "\n",
    "except Exception as e:\n",
    "    print(\"❌ Failed to connect to PostgreSQL:\", str(e))\n"
   ]
  },
  {
   "cell_type": "code",
   "execution_count": 34,
   "id": "2e705bcc-4ef2-49eb-9902-a00d44d2c230",
   "metadata": {},
   "outputs": [
    {
     "name": "stdout",
     "output_type": "stream",
     "text": [
      "⏳ Starting COPY operation...\n",
      "✅ Data successfully copied to database\n",
      "📊 Total records in 'earthquakes' table: 13\n"
     ]
    }
   ],
   "source": [
    "# Step 5: Use COPY command to insert all rows into PostgreSQL efficiently\n",
    "\n",
    "\n",
    "try:\n",
    "    copy_sql = \"\"\"\n",
    "        COPY earthquakes (id, place, magnitude, time)\n",
    "        FROM STDIN WITH CSV;\n",
    "    \"\"\"\n",
    "    print(\"⏳ Starting COPY operation...\")\n",
    "    # Clear the table first (optional, for full refreshes)\n",
    "    cur.execute(\"TRUNCATE TABLE earthquakes;\")\n",
    "\n",
    "    cur.copy_expert(sql=copy_sql, file=csv_buffer)\n",
    "    conn.commit()\n",
    "    print(\"✅ Data successfully copied to database\")\n",
    "\n",
    "    # Optional: Validate insert\n",
    "    cur.execute(\"SELECT COUNT(*) FROM earthquakes;\")\n",
    "    count = cur.fetchone()[0]\n",
    "    print(f\"📊 Total records in 'earthquakes' table: {count}\")\n",
    "\n",
    "    # Clean up\n",
    "    cur.close()\n",
    "    conn.close()\n",
    "\n",
    "except Exception as e:\n",
    "    print(\"❌ Failed to copy data to PostgreSQL:\", str(e))\n"
   ]
  },
  {
   "cell_type": "code",
   "execution_count": null,
   "id": "feab49ea-1595-4ebf-bc4b-ae8ea1275d3f",
   "metadata": {},
   "outputs": [],
   "source": []
  }
 ],
 "metadata": {
  "kernelspec": {
   "display_name": "Python [conda env:base] *",
   "language": "python",
   "name": "conda-base-py"
  },
  "language_info": {
   "codemirror_mode": {
    "name": "ipython",
    "version": 3
   },
   "file_extension": ".py",
   "mimetype": "text/x-python",
   "name": "python",
   "nbconvert_exporter": "python",
   "pygments_lexer": "ipython3",
   "version": "3.13.5"
  }
 },
 "nbformat": 4,
 "nbformat_minor": 5
}
